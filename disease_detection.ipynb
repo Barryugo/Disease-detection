{
  "cells": [
    {
      "cell_type": "markdown",
      "metadata": {
        "id": "view-in-github",
        "colab_type": "text"
      },
      "source": [
        "<a href=\"https://colab.research.google.com/github/Barryugo/Disease-detection/blob/main/disease_detection.ipynb\" target=\"_parent\"><img src=\"https://colab.research.google.com/assets/colab-badge.svg\" alt=\"Open In Colab\"/></a>"
      ]
    },
    {
      "cell_type": "code",
      "execution_count": 2,
      "metadata": {
        "colab": {
          "base_uri": "https://localhost:8080/"
        },
        "id": "UHYE8J8jXD1w",
        "outputId": "af56ab91-e36e-4a32-c4d7-0f0822f20c78"
      },
      "outputs": [
        {
          "output_type": "stream",
          "name": "stdout",
          "text": [
            "Requirement already satisfied: gdown in /usr/local/lib/python3.10/dist-packages (4.6.6)\n",
            "Requirement already satisfied: filelock in /usr/local/lib/python3.10/dist-packages (from gdown) (3.12.2)\n",
            "Requirement already satisfied: requests[socks] in /usr/local/lib/python3.10/dist-packages (from gdown) (2.27.1)\n",
            "Requirement already satisfied: six in /usr/local/lib/python3.10/dist-packages (from gdown) (1.16.0)\n",
            "Requirement already satisfied: tqdm in /usr/local/lib/python3.10/dist-packages (from gdown) (4.65.0)\n",
            "Requirement already satisfied: beautifulsoup4 in /usr/local/lib/python3.10/dist-packages (from gdown) (4.11.2)\n",
            "Requirement already satisfied: soupsieve>1.2 in /usr/local/lib/python3.10/dist-packages (from beautifulsoup4->gdown) (2.4.1)\n",
            "Requirement already satisfied: urllib3<1.27,>=1.21.1 in /usr/local/lib/python3.10/dist-packages (from requests[socks]->gdown) (1.26.16)\n",
            "Requirement already satisfied: certifi>=2017.4.17 in /usr/local/lib/python3.10/dist-packages (from requests[socks]->gdown) (2023.5.7)\n",
            "Requirement already satisfied: charset-normalizer~=2.0.0 in /usr/local/lib/python3.10/dist-packages (from requests[socks]->gdown) (2.0.12)\n",
            "Requirement already satisfied: idna<4,>=2.5 in /usr/local/lib/python3.10/dist-packages (from requests[socks]->gdown) (3.4)\n",
            "Requirement already satisfied: PySocks!=1.5.7,>=1.5.6 in /usr/local/lib/python3.10/dist-packages (from requests[socks]->gdown) (1.7.1)\n"
          ]
        }
      ],
      "source": [
        "!pip install gdown"
      ]
    },
    {
      "cell_type": "code",
      "execution_count": 3,
      "metadata": {
        "colab": {
          "base_uri": "https://localhost:8080/"
        },
        "id": "SqmjTqFZasXp",
        "outputId": "87146d43-a3e4-40bf-a35c-4158013b75b0"
      },
      "outputs": [
        {
          "output_type": "stream",
          "name": "stdout",
          "text": [
            "Collecting split-folders\n",
            "  Downloading split_folders-0.5.1-py3-none-any.whl (8.4 kB)\n",
            "Installing collected packages: split-folders\n",
            "Successfully installed split-folders-0.5.1\n",
            "Requirement already satisfied: TensorFlow in /usr/local/lib/python3.10/dist-packages (2.12.0)\n",
            "Requirement already satisfied: absl-py>=1.0.0 in /usr/local/lib/python3.10/dist-packages (from TensorFlow) (1.4.0)\n",
            "Requirement already satisfied: astunparse>=1.6.0 in /usr/local/lib/python3.10/dist-packages (from TensorFlow) (1.6.3)\n",
            "Requirement already satisfied: flatbuffers>=2.0 in /usr/local/lib/python3.10/dist-packages (from TensorFlow) (23.5.26)\n",
            "Requirement already satisfied: gast<=0.4.0,>=0.2.1 in /usr/local/lib/python3.10/dist-packages (from TensorFlow) (0.4.0)\n",
            "Requirement already satisfied: google-pasta>=0.1.1 in /usr/local/lib/python3.10/dist-packages (from TensorFlow) (0.2.0)\n",
            "Requirement already satisfied: grpcio<2.0,>=1.24.3 in /usr/local/lib/python3.10/dist-packages (from TensorFlow) (1.56.0)\n",
            "Requirement already satisfied: h5py>=2.9.0 in /usr/local/lib/python3.10/dist-packages (from TensorFlow) (3.8.0)\n",
            "Requirement already satisfied: jax>=0.3.15 in /usr/local/lib/python3.10/dist-packages (from TensorFlow) (0.4.10)\n",
            "Requirement already satisfied: keras<2.13,>=2.12.0 in /usr/local/lib/python3.10/dist-packages (from TensorFlow) (2.12.0)\n",
            "Requirement already satisfied: libclang>=13.0.0 in /usr/local/lib/python3.10/dist-packages (from TensorFlow) (16.0.0)\n",
            "Requirement already satisfied: numpy<1.24,>=1.22 in /usr/local/lib/python3.10/dist-packages (from TensorFlow) (1.22.4)\n",
            "Requirement already satisfied: opt-einsum>=2.3.2 in /usr/local/lib/python3.10/dist-packages (from TensorFlow) (3.3.0)\n",
            "Requirement already satisfied: packaging in /usr/local/lib/python3.10/dist-packages (from TensorFlow) (23.1)\n",
            "Requirement already satisfied: protobuf!=4.21.0,!=4.21.1,!=4.21.2,!=4.21.3,!=4.21.4,!=4.21.5,<5.0.0dev,>=3.20.3 in /usr/local/lib/python3.10/dist-packages (from TensorFlow) (3.20.3)\n",
            "Requirement already satisfied: setuptools in /usr/local/lib/python3.10/dist-packages (from TensorFlow) (67.7.2)\n",
            "Requirement already satisfied: six>=1.12.0 in /usr/local/lib/python3.10/dist-packages (from TensorFlow) (1.16.0)\n",
            "Requirement already satisfied: tensorboard<2.13,>=2.12 in /usr/local/lib/python3.10/dist-packages (from TensorFlow) (2.12.3)\n",
            "Requirement already satisfied: tensorflow-estimator<2.13,>=2.12.0 in /usr/local/lib/python3.10/dist-packages (from TensorFlow) (2.12.0)\n",
            "Requirement already satisfied: termcolor>=1.1.0 in /usr/local/lib/python3.10/dist-packages (from TensorFlow) (2.3.0)\n",
            "Requirement already satisfied: typing-extensions>=3.6.6 in /usr/local/lib/python3.10/dist-packages (from TensorFlow) (4.6.3)\n",
            "Requirement already satisfied: wrapt<1.15,>=1.11.0 in /usr/local/lib/python3.10/dist-packages (from TensorFlow) (1.14.1)\n",
            "Requirement already satisfied: tensorflow-io-gcs-filesystem>=0.23.1 in /usr/local/lib/python3.10/dist-packages (from TensorFlow) (0.32.0)\n",
            "Requirement already satisfied: wheel<1.0,>=0.23.0 in /usr/local/lib/python3.10/dist-packages (from astunparse>=1.6.0->TensorFlow) (0.40.0)\n",
            "Requirement already satisfied: ml-dtypes>=0.1.0 in /usr/local/lib/python3.10/dist-packages (from jax>=0.3.15->TensorFlow) (0.2.0)\n",
            "Requirement already satisfied: scipy>=1.7 in /usr/local/lib/python3.10/dist-packages (from jax>=0.3.15->TensorFlow) (1.10.1)\n",
            "Requirement already satisfied: google-auth<3,>=1.6.3 in /usr/local/lib/python3.10/dist-packages (from tensorboard<2.13,>=2.12->TensorFlow) (2.17.3)\n",
            "Requirement already satisfied: google-auth-oauthlib<1.1,>=0.5 in /usr/local/lib/python3.10/dist-packages (from tensorboard<2.13,>=2.12->TensorFlow) (1.0.0)\n",
            "Requirement already satisfied: markdown>=2.6.8 in /usr/local/lib/python3.10/dist-packages (from tensorboard<2.13,>=2.12->TensorFlow) (3.4.3)\n",
            "Requirement already satisfied: requests<3,>=2.21.0 in /usr/local/lib/python3.10/dist-packages (from tensorboard<2.13,>=2.12->TensorFlow) (2.27.1)\n",
            "Requirement already satisfied: tensorboard-data-server<0.8.0,>=0.7.0 in /usr/local/lib/python3.10/dist-packages (from tensorboard<2.13,>=2.12->TensorFlow) (0.7.1)\n",
            "Requirement already satisfied: werkzeug>=1.0.1 in /usr/local/lib/python3.10/dist-packages (from tensorboard<2.13,>=2.12->TensorFlow) (2.3.6)\n",
            "Requirement already satisfied: cachetools<6.0,>=2.0.0 in /usr/local/lib/python3.10/dist-packages (from google-auth<3,>=1.6.3->tensorboard<2.13,>=2.12->TensorFlow) (5.3.1)\n",
            "Requirement already satisfied: pyasn1-modules>=0.2.1 in /usr/local/lib/python3.10/dist-packages (from google-auth<3,>=1.6.3->tensorboard<2.13,>=2.12->TensorFlow) (0.3.0)\n",
            "Requirement already satisfied: rsa<5,>=3.1.4 in /usr/local/lib/python3.10/dist-packages (from google-auth<3,>=1.6.3->tensorboard<2.13,>=2.12->TensorFlow) (4.9)\n",
            "Requirement already satisfied: requests-oauthlib>=0.7.0 in /usr/local/lib/python3.10/dist-packages (from google-auth-oauthlib<1.1,>=0.5->tensorboard<2.13,>=2.12->TensorFlow) (1.3.1)\n",
            "Requirement already satisfied: urllib3<1.27,>=1.21.1 in /usr/local/lib/python3.10/dist-packages (from requests<3,>=2.21.0->tensorboard<2.13,>=2.12->TensorFlow) (1.26.16)\n",
            "Requirement already satisfied: certifi>=2017.4.17 in /usr/local/lib/python3.10/dist-packages (from requests<3,>=2.21.0->tensorboard<2.13,>=2.12->TensorFlow) (2023.5.7)\n",
            "Requirement already satisfied: charset-normalizer~=2.0.0 in /usr/local/lib/python3.10/dist-packages (from requests<3,>=2.21.0->tensorboard<2.13,>=2.12->TensorFlow) (2.0.12)\n",
            "Requirement already satisfied: idna<4,>=2.5 in /usr/local/lib/python3.10/dist-packages (from requests<3,>=2.21.0->tensorboard<2.13,>=2.12->TensorFlow) (3.4)\n",
            "Requirement already satisfied: MarkupSafe>=2.1.1 in /usr/local/lib/python3.10/dist-packages (from werkzeug>=1.0.1->tensorboard<2.13,>=2.12->TensorFlow) (2.1.3)\n",
            "Requirement already satisfied: pyasn1<0.6.0,>=0.4.6 in /usr/local/lib/python3.10/dist-packages (from pyasn1-modules>=0.2.1->google-auth<3,>=1.6.3->tensorboard<2.13,>=2.12->TensorFlow) (0.5.0)\n",
            "Requirement already satisfied: oauthlib>=3.0.0 in /usr/local/lib/python3.10/dist-packages (from requests-oauthlib>=0.7.0->google-auth-oauthlib<1.1,>=0.5->tensorboard<2.13,>=2.12->TensorFlow) (3.2.2)\n"
          ]
        }
      ],
      "source": [
        "!pip install split-folders\n",
        "!pip install TensorFlow"
      ]
    },
    {
      "cell_type": "code",
      "execution_count": 4,
      "metadata": {
        "id": "t0uHGc9NbBx3"
      },
      "outputs": [],
      "source": [
        "import os\n",
        "import tensorflow as tf\n",
        "import cv2, pathlib, splitfolders\n",
        "from tensorflow.keras.preprocessing.image import ImageDataGenerator\n",
        "from tensorflow.keras.layers import *\n",
        "import matplotlib.pyplot as plt\n",
        "import pandas as pd\n",
        "import numpy as np\n",
        "from google.colab import drive"
      ]
    },
    {
      "cell_type": "code",
      "execution_count": 5,
      "metadata": {
        "id": "4R3nzDH2GRsU"
      },
      "outputs": [],
      "source": [
        "from google.colab import files\n",
        "import zipfile\n",
        "import io"
      ]
    },
    {
      "cell_type": "code",
      "execution_count": 6,
      "metadata": {
        "colab": {
          "base_uri": "https://localhost:8080/"
        },
        "id": "L3K6w-mLRCQV",
        "outputId": "cfe52530-6f05-437f-8be0-eb565a881bf5"
      },
      "outputs": [
        {
          "output_type": "stream",
          "name": "stdout",
          "text": [
            "Mounted at /content/drive\n"
          ]
        }
      ],
      "source": [
        "drive.mount('/content/drive')"
      ]
    },
    {
      "cell_type": "code",
      "execution_count": 7,
      "metadata": {
        "colab": {
          "base_uri": "https://localhost:8080/"
        },
        "id": "eEvHxXhyUK6-",
        "outputId": "b26aff30-40fc-4e26-b860-01f4e3fb0b38"
      },
      "outputs": [
        {
          "output_type": "stream",
          "name": "stdout",
          "text": [
            "/usr/local/lib/python3.10/dist-packages/gdown/cli.py:121: FutureWarning: Option `--id` was deprecated in version 4.3.1 and will be removed in 5.0. You don't need to pass it anymore to use a file ID.\n",
            "  warnings.warn(\n",
            "Downloading...\n",
            "From: https://drive.google.com/uc?id=1tMMrivJDCM62PEuXHUnOG1YKH9KI6Lfv\n",
            "To: /content/archive.zip\n",
            "100% 169M/169M [00:04<00:00, 40.7MB/s]\n"
          ]
        }
      ],
      "source": [
        "!gdown --id 1tMMrivJDCM62PEuXHUnOG1YKH9KI6Lfv\n"
      ]
    },
    {
      "cell_type": "code",
      "execution_count": 8,
      "metadata": {
        "id": "jSHr8d3XX8XV"
      },
      "outputs": [],
      "source": [
        "!unzip -uq \"archive.zip\" -d \"Disease_detection\"\n"
      ]
    },
    {
      "cell_type": "code",
      "execution_count": 9,
      "metadata": {
        "colab": {
          "base_uri": "https://localhost:8080/"
        },
        "id": "d-vPsYzBUIdN",
        "outputId": "a80578c6-f664-48a0-ab10-f80519e5f58f"
      },
      "outputs": [
        {
          "output_type": "stream",
          "name": "stdout",
          "text": [
            "Blight\tCommon_Rust  Gray_Leaf_Spot  Healthy\n"
          ]
        }
      ],
      "source": [
        "!ls /content/Disease_detection/data\n"
      ]
    },
    {
      "cell_type": "code",
      "execution_count": 10,
      "metadata": {
        "colab": {
          "base_uri": "https://localhost:8080/"
        },
        "id": "16DYqWOHaaQ0",
        "outputId": "70c0f059-7b05-405a-84bb-c5dcf6b2fe62"
      },
      "outputs": [
        {
          "output_type": "stream",
          "name": "stderr",
          "text": [
            "Copying files: 4188 files [00:00, 5301.78 files/s]\n"
          ]
        },
        {
          "output_type": "stream",
          "name": "stdout",
          "text": [
            "Found 2930 images belonging to 4 classes.\n",
            "Found 626 images belonging to 4 classes.\n"
          ]
        }
      ],
      "source": [
        "epochs = 30\n",
        "batch_size = 32\n",
        "img_height, img_width = 300, 300\n",
        "input_shape = (img_height, img_width, 3)\n",
        "\n",
        "\n",
        "def create_data_sparse(data_bs):\n",
        "    data_bs = pathlib.Path(data_bs)\n",
        "    splitfolders.ratio(data_bs, output='Imgs/', seed=1234, ratio=(0.7, 0.15, 0.15), group_prefix=None)\n",
        "    data_gen = ImageDataGenerator(rescale=1.0 / 255)\n",
        "    train_ds = data_gen.flow_from_directory('Imgs/train/', target_size=(img_height, img_width),\n",
        "                                            class_mode='sparse', batch_size=batch_size, subset='training')\n",
        "    val_ds = data_gen.flow_from_directory('Imgs/val/', target_size=(img_height, img_width),\n",
        "                                          class_mode='sparse', batch_size=batch_size, shuffle=False)\n",
        "\n",
        "    return train_ds, val_ds\n",
        "\n",
        "train_ds, val_ds = create_data_sparse('/content/Disease_detection/data')"
      ]
    },
    {
      "cell_type": "code",
      "execution_count": 16,
      "metadata": {
        "colab": {
          "base_uri": "https://localhost:8080/"
        },
        "id": "KqvOmbVgdYNz",
        "outputId": "6720a15b-84ca-43d9-8253-451130af8301"
      },
      "outputs": [
        {
          "output_type": "stream",
          "name": "stdout",
          "text": [
            "Epoch 1/30\n",
            "92/92 [==============================] - 38s 347ms/step - loss: 0.0923 - sparse_categorical_accuracy: 0.9669 - val_loss: 0.5040 - val_sparse_categorical_accuracy: 0.8706\n",
            "Epoch 2/30\n",
            "92/92 [==============================] - 33s 356ms/step - loss: 0.0914 - sparse_categorical_accuracy: 0.9679 - val_loss: 2.1590 - val_sparse_categorical_accuracy: 0.6677\n",
            "Epoch 3/30\n",
            "92/92 [==============================] - 32s 352ms/step - loss: 0.0902 - sparse_categorical_accuracy: 0.9713 - val_loss: 1.3463 - val_sparse_categorical_accuracy: 0.7396\n",
            "Epoch 4/30\n",
            "92/92 [==============================] - 31s 335ms/step - loss: 0.0706 - sparse_categorical_accuracy: 0.9782 - val_loss: 1.3403 - val_sparse_categorical_accuracy: 0.6534\n",
            "Epoch 5/30\n",
            "92/92 [==============================] - 33s 356ms/step - loss: 0.0654 - sparse_categorical_accuracy: 0.9765 - val_loss: 2.4032 - val_sparse_categorical_accuracy: 0.6693\n",
            "Epoch 6/30\n",
            "92/92 [==============================] - 31s 341ms/step - loss: 0.0476 - sparse_categorical_accuracy: 0.9840 - val_loss: 0.3944 - val_sparse_categorical_accuracy: 0.9026\n",
            "Epoch 7/30\n",
            "92/92 [==============================] - 33s 358ms/step - loss: 0.0749 - sparse_categorical_accuracy: 0.9771 - val_loss: 0.5043 - val_sparse_categorical_accuracy: 0.8626\n",
            "Epoch 8/30\n",
            "92/92 [==============================] - 31s 336ms/step - loss: 0.0503 - sparse_categorical_accuracy: 0.9816 - val_loss: 0.4932 - val_sparse_categorical_accuracy: 0.8882\n",
            "Epoch 9/30\n",
            "92/92 [==============================] - 33s 356ms/step - loss: 0.0510 - sparse_categorical_accuracy: 0.9812 - val_loss: 3.1990 - val_sparse_categorical_accuracy: 0.6022\n",
            "Epoch 10/30\n",
            "92/92 [==============================] - 31s 337ms/step - loss: 0.0394 - sparse_categorical_accuracy: 0.9863 - val_loss: 0.5158 - val_sparse_categorical_accuracy: 0.8898\n",
            "Epoch 11/30\n",
            "92/92 [==============================] - 31s 338ms/step - loss: 0.0214 - sparse_categorical_accuracy: 0.9928 - val_loss: 1.0702 - val_sparse_categorical_accuracy: 0.7684\n",
            "Epoch 12/30\n",
            "92/92 [==============================] - 32s 342ms/step - loss: 0.0386 - sparse_categorical_accuracy: 0.9857 - val_loss: 0.6080 - val_sparse_categorical_accuracy: 0.8978\n",
            "Epoch 13/30\n",
            "92/92 [==============================] - 33s 353ms/step - loss: 0.0447 - sparse_categorical_accuracy: 0.9826 - val_loss: 0.7235 - val_sparse_categorical_accuracy: 0.8466\n",
            "Epoch 14/30\n",
            "92/92 [==============================] - 33s 358ms/step - loss: 0.0285 - sparse_categorical_accuracy: 0.9911 - val_loss: 0.4576 - val_sparse_categorical_accuracy: 0.9073\n",
            "Epoch 15/30\n",
            "92/92 [==============================] - 32s 344ms/step - loss: 0.0202 - sparse_categorical_accuracy: 0.9922 - val_loss: 2.4550 - val_sparse_categorical_accuracy: 0.6629\n",
            "Epoch 16/30\n",
            "92/92 [==============================] - 31s 337ms/step - loss: 0.0243 - sparse_categorical_accuracy: 0.9901 - val_loss: 0.5400 - val_sparse_categorical_accuracy: 0.9105\n",
            "Epoch 17/30\n",
            "92/92 [==============================] - 32s 347ms/step - loss: 0.0654 - sparse_categorical_accuracy: 0.9816 - val_loss: 1.8781 - val_sparse_categorical_accuracy: 0.7188\n",
            "Epoch 18/30\n",
            "92/92 [==============================] - 31s 334ms/step - loss: 0.0317 - sparse_categorical_accuracy: 0.9922 - val_loss: 0.7122 - val_sparse_categorical_accuracy: 0.8978\n",
            "Epoch 19/30\n",
            "92/92 [==============================] - 31s 332ms/step - loss: 0.0423 - sparse_categorical_accuracy: 0.9874 - val_loss: 1.0106 - val_sparse_categorical_accuracy: 0.8498\n",
            "Epoch 20/30\n",
            "92/92 [==============================] - 31s 339ms/step - loss: 0.0511 - sparse_categorical_accuracy: 0.9843 - val_loss: 0.8298 - val_sparse_categorical_accuracy: 0.7220\n",
            "Epoch 21/30\n",
            "92/92 [==============================] - 31s 333ms/step - loss: 0.0201 - sparse_categorical_accuracy: 0.9935 - val_loss: 0.6958 - val_sparse_categorical_accuracy: 0.8642\n",
            "Epoch 22/30\n",
            "92/92 [==============================] - 31s 331ms/step - loss: 0.0205 - sparse_categorical_accuracy: 0.9935 - val_loss: 0.7154 - val_sparse_categorical_accuracy: 0.8578\n",
            "Epoch 23/30\n",
            "92/92 [==============================] - 31s 337ms/step - loss: 0.0266 - sparse_categorical_accuracy: 0.9911 - val_loss: 0.4992 - val_sparse_categorical_accuracy: 0.9089\n",
            "Epoch 24/30\n",
            "92/92 [==============================] - 31s 336ms/step - loss: 0.0276 - sparse_categorical_accuracy: 0.9918 - val_loss: 0.7401 - val_sparse_categorical_accuracy: 0.8642\n",
            "Epoch 25/30\n",
            "92/92 [==============================] - 31s 335ms/step - loss: 0.0709 - sparse_categorical_accuracy: 0.9775 - val_loss: 0.5243 - val_sparse_categorical_accuracy: 0.8962\n",
            "Epoch 26/30\n",
            "92/92 [==============================] - 31s 337ms/step - loss: 0.0125 - sparse_categorical_accuracy: 0.9962 - val_loss: 1.3202 - val_sparse_categorical_accuracy: 0.7396\n",
            "Epoch 27/30\n",
            "92/92 [==============================] - 31s 334ms/step - loss: 0.0150 - sparse_categorical_accuracy: 0.9942 - val_loss: 1.7267 - val_sparse_categorical_accuracy: 0.8371\n",
            "Epoch 28/30\n",
            "92/92 [==============================] - 30s 329ms/step - loss: 0.0420 - sparse_categorical_accuracy: 0.9904 - val_loss: 0.8523 - val_sparse_categorical_accuracy: 0.8770\n",
            "Epoch 29/30\n",
            "92/92 [==============================] - 31s 338ms/step - loss: 0.0416 - sparse_categorical_accuracy: 0.9881 - val_loss: 1.0428 - val_sparse_categorical_accuracy: 0.8243\n",
            "Epoch 30/30\n",
            "92/92 [==============================] - 31s 337ms/step - loss: 0.0275 - sparse_categorical_accuracy: 0.9922 - val_loss: 0.6965 - val_sparse_categorical_accuracy: 0.8642\n",
            "Model: \"base_model_2\"\n",
            "_________________________________________________________________\n",
            " Layer (type)                Output Shape              Param #   \n",
            "=================================================================\n",
            " conv2d_6 (Conv2D)           multiple                  7808      \n",
            "                                                                 \n",
            " batch_normalization_8 (Batc  multiple                 128       \n",
            " hNormalization)                                                 \n",
            "                                                                 \n",
            " activation_6 (Activation)   multiple                  0         \n",
            "                                                                 \n",
            " max_pooling2d_6 (MaxPooling  multiple                 0         \n",
            " 2D)                                                             \n",
            "                                                                 \n",
            " conv2d_7 (Conv2D)           multiple                  82976     \n",
            "                                                                 \n",
            " batch_normalization_9 (Batc  multiple                 128       \n",
            " hNormalization)                                                 \n",
            "                                                                 \n",
            " activation_7 (Activation)   multiple                  0         \n",
            "                                                                 \n",
            " max_pooling2d_7 (MaxPooling  multiple                 0         \n",
            " 2D)                                                             \n",
            "                                                                 \n",
            " dropout_6 (Dropout)         multiple                  0         \n",
            "                                                                 \n",
            " conv2d_8 (Conv2D)           multiple                  82976     \n",
            "                                                                 \n",
            " batch_normalization_10 (Bat  multiple                 128       \n",
            " chNormalization)                                                \n",
            "                                                                 \n",
            " activation_8 (Activation)   multiple                  0         \n",
            "                                                                 \n",
            " max_pooling2d_8 (MaxPooling  multiple                 0         \n",
            " 2D)                                                             \n",
            "                                                                 \n",
            " dropout_7 (Dropout)         multiple                  0         \n",
            "                                                                 \n",
            " flatten_2 (Flatten)         multiple                  0         \n",
            "                                                                 \n",
            " dense_10 (Dense)            multiple                  11829504  \n",
            "                                                                 \n",
            " batch_normalization_11 (Bat  multiple                 1024      \n",
            " chNormalization)                                                \n",
            "                                                                 \n",
            " dense_11 (Dense)            multiple                  65792     \n",
            "                                                                 \n",
            " dense_12 (Dense)            multiple                  65792     \n",
            "                                                                 \n",
            " dense_13 (Dense)            multiple                  65792     \n",
            "                                                                 \n",
            " dropout_8 (Dropout)         multiple                  0         \n",
            "                                                                 \n",
            " dense_14 (Dense)            multiple                  1028      \n",
            "                                                                 \n",
            "=================================================================\n",
            "Total params: 12,203,076\n",
            "Trainable params: 12,202,372\n",
            "Non-trainable params: 704\n",
            "_________________________________________________________________\n"
          ]
        }
      ],
      "source": [
        "class BaseModel(tf.keras.Model):\n",
        "    def __init__(self):\n",
        "        super(BaseModel, self).__init__()\n",
        "\n",
        "        self.C1 = Conv2D(32, (3 * 3), padding='same', input_shape = input_shape)\n",
        "        self.B1 = BatchNormalization()\n",
        "        self.A1 = Activation('relu')\n",
        "        self.P1 = MaxPooling2D(2, padding='same')\n",
        "\n",
        "        self.C2 = Conv2D(32, (3 * 3), padding='same')\n",
        "        self.B2 = BatchNormalization()\n",
        "        self.A2 = Activation('relu')\n",
        "        self.P2 = MaxPooling2D(2, padding='same')\n",
        "        self.Dr1 = Dropout(0.3)\n",
        "\n",
        "        self.C3 = Conv2D(32, (3 * 3), padding='same')\n",
        "        self.B3 = BatchNormalization()\n",
        "        self.A3 = Activation('relu')\n",
        "        self.P3 = MaxPooling2D(2, padding='same')\n",
        "        self.Dr2 = Dropout(0.3)\n",
        "\n",
        "        self.F1 = Flatten()\n",
        "        self.D1 = Dense(256, activation='relu')\n",
        "        self.B4 = BatchNormalization()\n",
        "        self.D2 = Dense(256, activation='relu')\n",
        "        self.D3 = Dense(256, activation='relu')\n",
        "        self.D4 = Dense(256, activation='relu')\n",
        "        self.Dr3 = Dropout(0.3)\n",
        "        self.D5 = Dense(4, activation='softmax')\n",
        "\n",
        "\n",
        "    def call(self, x):\n",
        "        x = self.C1(x)\n",
        "        x = self.B1(x)\n",
        "        x = self.A1(x)\n",
        "        x = self.P1(x)\n",
        "\n",
        "        x = self.C2(x)\n",
        "        x = self.B2(x)\n",
        "        x = self.A2(x)\n",
        "        x = self.P2(x)\n",
        "        x = self.Dr1(x)\n",
        "\n",
        "        x = self.C3(x)\n",
        "        x = self.B3(x)\n",
        "        x = self.A3(x)\n",
        "        x = self.P3(x)\n",
        "        x = self.Dr2(x)\n",
        "\n",
        "        x = self.F1(x)\n",
        "        x = self.D1(x)\n",
        "        x = self.B4(x)\n",
        "        x = self.D2(x)\n",
        "        x = self.D3(x)\n",
        "        x = self.D4(x)\n",
        "        x = self.Dr3(x)\n",
        "        y = self.D5(x)\n",
        "\n",
        "        return y\n",
        "\n",
        "    def __repr__(self):\n",
        "        name = 'Huang_Model'\n",
        "        return name\n",
        "\n",
        "\n",
        "net = BaseModel()\n",
        "\n",
        "net.compile(optimizer='adam',\n",
        "            loss=tf.keras.losses.SparseCategoricalCrossentropy(from_logits=False),\n",
        "            metrics=['sparse_categorical_accuracy'])\n",
        "\n",
        "checkpoint_save_path = './Model.ckpt'\n",
        "if os.path.exists(checkpoint_save_path + '.index'):\n",
        "    net.load_weights(checkpoint_save_path)\n",
        "\n",
        "cp_callback = tf.keras.callbacks.ModelCheckpoint(filepath=checkpoint_save_path, save_weights_only=True,\n",
        "                                                 save_best_only=True)\n",
        "\n",
        "history = net.fit(train_ds, epochs=epochs, batch_size=batch_size, validation_data=val_ds, callbacks=[cp_callback])\n",
        "\n",
        "net.summary()\n",
        "\n",
        "file = open('./weights.txt', 'w')\n",
        "for v in net.trainable_variables:\n",
        "    file.write(str(v.name) + '\\n')\n",
        "    file.write(str(v.shape) + '\\n')\n",
        "    file.write(str(v.numpy()) + '\\n')\n",
        "\n",
        "file.close()"
      ]
    },
    {
      "cell_type": "code",
      "source": [
        "acc = history.history['sparse_categorical_accuracy']\n",
        "loss = history.history['loss']\n",
        "\n",
        "plt.figure(figsize=(12, 6))\n",
        "plt.subplot(1, 2, 1)\n",
        "plt.plot(acc)\n",
        "plt.title('Training Acc')\n",
        "\n",
        "plt.subplot(1, 2, 2)\n",
        "plt.plot(loss)\n",
        "plt.title('Training Loss')\n",
        "plt.show()"
      ],
      "metadata": {
        "colab": {
          "base_uri": "https://localhost:8080/",
          "height": 545
        },
        "id": "8BID7piPLstj",
        "outputId": "608e4a51-d52e-485e-c612-4b09ba6e057d"
      },
      "execution_count": 12,
      "outputs": [
        {
          "output_type": "display_data",
          "data": {
            "text/plain": [
              "<Figure size 1200x600 with 2 Axes>"
            ],
            "image/png": "[encoded data removed]"
          },
          "metadata": {}
        }
      ]
    },
    {
      "cell_type": "code",
      "source": [
        "# import the libraries\n",
        "import tensorflow as tf\n",
        "from tensorflow.keras.applications.resnet50 import ResNet50\n",
        "from tensorflow.keras.preprocessing.image import ImageDataGenerator\n",
        "from tensorflow.keras.layers import Flatten, Dense, Dropout\n",
        "from tensorflow.keras.models import Sequential\n",
        "import splitfolders\n",
        "\n",
        "# set the parameters\n",
        "epochs = 30\n",
        "batch_size = 32\n",
        "img_height, img_width = 300, 300\n",
        "input_shape = (img_height, img_width, 3)\n",
        "\n",
        "# create the data generator and split the dataset\n",
        "data_gen = ImageDataGenerator(rescale=1.0 / 255)\n",
        "splitfolders.ratio('/content/Disease_detection/data', output='Imgs/', seed=1234, ratio=(0.7, 0.15, 0.15), group_prefix=None)\n",
        "\n",
        "# create the train and validation datasets\n",
        "train_ds = data_gen.flow_from_directory('Imgs/train/', target_size=(img_height, img_width),\n",
        "                                        class_mode='sparse', batch_size=batch_size, subset='training')\n",
        "val_ds = data_gen.flow_from_directory('Imgs/val/', target_size=(img_height, img_width),\n",
        "                                      class_mode='sparse', batch_size=batch_size, shuffle=False)\n",
        "\n",
        "# load the pretrained model and freeze its weights\n",
        "base_model = ResNet50(weights='imagenet', include_top=False)\n",
        "base_model.trainable = False\n",
        "\n",
        "# create the transfer learning model\n",
        "from tensorflow.keras.layers import GlobalAveragePooling2D\n",
        "model_tr = Sequential()\n",
        "model_tr.add(base_model)\n",
        "model_tr.add(GlobalAveragePooling2D())\n",
        "model_tr.add(Dense(256, activation='relu'))\n",
        "model_tr.add(Dropout(0.3))\n",
        "model_tr.add(Dense(4, activation='softmax'))\n",
        "\n",
        "\n",
        "# compile and train the model\n",
        "model_tr.compile(optimizer='adam',\n",
        "            loss=tf.keras.losses.SparseCategoricalCrossentropy(from_logits=False),\n",
        "            metrics=['sparse_categorical_accuracy'])\n",
        "\n",
        "checkpoint_save_path = './Model.ckpt'\n",
        "if os.path.exists(checkpoint_save_path + '.index'):\n",
        "    model_tr.load_weights(checkpoint_save_path)\n",
        "\n",
        "cp_callback = tf.keras.callbacks.ModelCheckpoint(filepath=checkpoint_save_path, save_weights_only=True,\n",
        "                                                 save_best_only=True)\n",
        "\n",
        "history = model_tr.fit(train_ds, epochs=epochs, batch_size=batch_size, validation_data=val_ds, callbacks=[cp_callback])\n",
        "\n",
        "model_tr.summary()\n",
        "\n",
        "file = open('./weights.txt', 'w')\n",
        "for v in model_tr.trainable_variables:\n",
        "    file.write(str(v.name) + '\\n')\n",
        "    file.write(str(v.shape) + '\\n')\n",
        "    file.write(str(v.numpy()) + '\\n')\n",
        "\n",
        "file.close()\n"
      ],
      "metadata": {
        "colab": {
          "base_uri": "https://localhost:8080/"
        },
        "id": "1MdiusnRVRW3",
        "outputId": "64157e1f-180a-40df-8986-299a6b7fa87b"
      },
      "execution_count": 11,
      "outputs": [
        {
          "output_type": "stream",
          "name": "stderr",
          "text": [
            "Copying files: 4188 files [00:00, 4725.30 files/s]\n"
          ]
        },
        {
          "output_type": "stream",
          "name": "stdout",
          "text": [
            "Found 2930 images belonging to 4 classes.\n",
            "Found 626 images belonging to 4 classes.\n",
            "Downloading data from https://storage.googleapis.com/tensorflow/keras-applications/resnet/resnet50_weights_tf_dim_ordering_tf_kernels_notop.h5\n",
            "94765736/94765736 [==============================] - 0s 0us/step\n",
            "Epoch 1/30\n",
            "92/92 [==============================] - 43s 327ms/step - loss: 1.3814 - sparse_categorical_accuracy: 0.3423 - val_loss: 1.2709 - val_sparse_categorical_accuracy: 0.3259\n",
            "Epoch 2/30\n",
            "92/92 [==============================] - 27s 297ms/step - loss: 1.1898 - sparse_categorical_accuracy: 0.4846 - val_loss: 1.0931 - val_sparse_categorical_accuracy: 0.5399\n",
            "Epoch 3/30\n",
            "92/92 [==============================] - 28s 299ms/step - loss: 1.0699 - sparse_categorical_accuracy: 0.5495 - val_loss: 0.9829 - val_sparse_categorical_accuracy: 0.5655\n",
            "Epoch 4/30\n",
            "92/92 [==============================] - 28s 304ms/step - loss: 0.9994 - sparse_categorical_accuracy: 0.5638 - val_loss: 0.9566 - val_sparse_categorical_accuracy: 0.6677\n",
            "Epoch 5/30\n",
            "92/92 [==============================] - 28s 305ms/step - loss: 0.9364 - sparse_categorical_accuracy: 0.5853 - val_loss: 0.9301 - val_sparse_categorical_accuracy: 0.6326\n",
            "Epoch 6/30\n",
            "92/92 [==============================] - 28s 305ms/step - loss: 0.9069 - sparse_categorical_accuracy: 0.6072 - val_loss: 0.8309 - val_sparse_categorical_accuracy: 0.6086\n",
            "Epoch 7/30\n",
            "92/92 [==============================] - 29s 309ms/step - loss: 0.8760 - sparse_categorical_accuracy: 0.6218 - val_loss: 0.8410 - val_sparse_categorical_accuracy: 0.6310\n",
            "Epoch 8/30\n",
            "92/92 [==============================] - 29s 307ms/step - loss: 0.8636 - sparse_categorical_accuracy: 0.6294 - val_loss: 0.8288 - val_sparse_categorical_accuracy: 0.6901\n",
            "Epoch 9/30\n",
            "92/92 [==============================] - 28s 308ms/step - loss: 0.8548 - sparse_categorical_accuracy: 0.6201 - val_loss: 0.7988 - val_sparse_categorical_accuracy: 0.7141\n",
            "Epoch 10/30\n",
            "92/92 [==============================] - 28s 301ms/step - loss: 0.8364 - sparse_categorical_accuracy: 0.6300 - val_loss: 0.7679 - val_sparse_categorical_accuracy: 0.6374\n",
            "Epoch 11/30\n",
            "92/92 [==============================] - 29s 310ms/step - loss: 0.8277 - sparse_categorical_accuracy: 0.6348 - val_loss: 0.7322 - val_sparse_categorical_accuracy: 0.6725\n",
            "Epoch 12/30\n",
            "92/92 [==============================] - 28s 300ms/step - loss: 0.8045 - sparse_categorical_accuracy: 0.6549 - val_loss: 0.7383 - val_sparse_categorical_accuracy: 0.7173\n",
            "Epoch 13/30\n",
            "92/92 [==============================] - 28s 307ms/step - loss: 0.7931 - sparse_categorical_accuracy: 0.6577 - val_loss: 0.7163 - val_sparse_categorical_accuracy: 0.6933\n",
            "Epoch 14/30\n",
            "92/92 [==============================] - 28s 299ms/step - loss: 0.7780 - sparse_categorical_accuracy: 0.6648 - val_loss: 0.7485 - val_sparse_categorical_accuracy: 0.6422\n",
            "Epoch 15/30\n",
            "92/92 [==============================] - 28s 308ms/step - loss: 0.7662 - sparse_categorical_accuracy: 0.6669 - val_loss: 0.7147 - val_sparse_categorical_accuracy: 0.6837\n",
            "Epoch 16/30\n",
            "92/92 [==============================] - 28s 301ms/step - loss: 0.7641 - sparse_categorical_accuracy: 0.6655 - val_loss: 0.7131 - val_sparse_categorical_accuracy: 0.6406\n",
            "Epoch 17/30\n",
            "92/92 [==============================] - 28s 308ms/step - loss: 0.7518 - sparse_categorical_accuracy: 0.6666 - val_loss: 0.6723 - val_sparse_categorical_accuracy: 0.7157\n",
            "Epoch 18/30\n",
            "92/92 [==============================] - 27s 292ms/step - loss: 0.7603 - sparse_categorical_accuracy: 0.6819 - val_loss: 0.6914 - val_sparse_categorical_accuracy: 0.6981\n",
            "Epoch 19/30\n",
            "92/92 [==============================] - 28s 302ms/step - loss: 0.7700 - sparse_categorical_accuracy: 0.6679 - val_loss: 0.7526 - val_sparse_categorical_accuracy: 0.6230\n",
            "Epoch 20/30\n",
            "92/92 [==============================] - 28s 302ms/step - loss: 0.7875 - sparse_categorical_accuracy: 0.6549 - val_loss: 0.6885 - val_sparse_categorical_accuracy: 0.6693\n",
            "Epoch 21/30\n",
            "92/92 [==============================] - 27s 298ms/step - loss: 0.7713 - sparse_categorical_accuracy: 0.6601 - val_loss: 0.7122 - val_sparse_categorical_accuracy: 0.6597\n",
            "Epoch 22/30\n",
            "92/92 [==============================] - 27s 292ms/step - loss: 0.7533 - sparse_categorical_accuracy: 0.6768 - val_loss: 0.7329 - val_sparse_categorical_accuracy: 0.6390\n",
            "Epoch 23/30\n",
            "92/92 [==============================] - 28s 301ms/step - loss: 0.7439 - sparse_categorical_accuracy: 0.6761 - val_loss: 0.6562 - val_sparse_categorical_accuracy: 0.7460\n",
            "Epoch 24/30\n",
            "92/92 [==============================] - 28s 304ms/step - loss: 0.7428 - sparse_categorical_accuracy: 0.6853 - val_loss: 0.6518 - val_sparse_categorical_accuracy: 0.7396\n",
            "Epoch 25/30\n",
            "92/92 [==============================] - 27s 294ms/step - loss: 0.7407 - sparse_categorical_accuracy: 0.6867 - val_loss: 0.6553 - val_sparse_categorical_accuracy: 0.7284\n",
            "Epoch 26/30\n",
            "92/92 [==============================] - 28s 300ms/step - loss: 0.7264 - sparse_categorical_accuracy: 0.6898 - val_loss: 0.6760 - val_sparse_categorical_accuracy: 0.6885\n",
            "Epoch 27/30\n",
            "92/92 [==============================] - 28s 301ms/step - loss: 0.7399 - sparse_categorical_accuracy: 0.6737 - val_loss: 0.6428 - val_sparse_categorical_accuracy: 0.7476\n",
            "Epoch 28/30\n",
            "92/92 [==============================] - 28s 302ms/step - loss: 0.7055 - sparse_categorical_accuracy: 0.6922 - val_loss: 0.6227 - val_sparse_categorical_accuracy: 0.7764\n",
            "Epoch 29/30\n",
            "92/92 [==============================] - 28s 299ms/step - loss: 0.7307 - sparse_categorical_accuracy: 0.6843 - val_loss: 0.6280 - val_sparse_categorical_accuracy: 0.7077\n",
            "Epoch 30/30\n",
            "92/92 [==============================] - 27s 290ms/step - loss: 0.7116 - sparse_categorical_accuracy: 0.6922 - val_loss: 0.7375 - val_sparse_categorical_accuracy: 0.7300\n",
            "Model: \"sequential\"\n",
            "_________________________________________________________________\n",
            " Layer (type)                Output Shape              Param #   \n",
            "=================================================================\n",
            " resnet50 (Functional)       (None, None, None, 2048)  23587712  \n",
            "                                                                 \n",
            " global_average_pooling2d (G  (None, 2048)             0         \n",
            " lobalAveragePooling2D)                                          \n",
            "                                                                 \n",
            " dense (Dense)               (None, 256)               524544    \n",
            "                                                                 \n",
            " dropout (Dropout)           (None, 256)               0         \n",
            "                                                                 \n",
            " dense_1 (Dense)             (None, 4)                 1028      \n",
            "                                                                 \n",
            "=================================================================\n",
            "Total params: 24,113,284\n",
            "Trainable params: 525,572\n",
            "Non-trainable params: 23,587,712\n",
            "_________________________________________________________________\n"
          ]
        }
      ]
    },
    {
      "cell_type": "code",
      "source": [
        "test_loss, test_acc = model_tr.evaluate(val_ds)\n",
        "print('Test loss:', test_loss)\n",
        "print('Test accuracy:', test_acc)"
      ],
      "metadata": {
        "colab": {
          "base_uri": "https://localhost:8080/"
        },
        "id": "yjiMyLAKWdLX",
        "outputId": "b5e252aa-10bd-4eed-87c8-c71b6ed3e7fc"
      },
      "execution_count": 18,
      "outputs": [
        {
          "output_type": "stream",
          "name": "stdout",
          "text": [
            "20/20 [==============================] - 5s 213ms/step - loss: 0.7375 - sparse_categorical_accuracy: 0.7300\n",
            "Test loss: 0.7374860644340515\n",
            "Test accuracy: 0.7300319671630859\n"
          ]
        }
      ]
    },
    {
      "cell_type": "code",
      "source": [
        "model_tr.save('dis_det')"
      ],
      "metadata": {
        "colab": {
          "base_uri": "https://localhost:8080/",
          "height": 165
        },
        "id": "z8EyqrHeK2dv",
        "outputId": "a5ca83d3-556d-4d9d-f076-ffe3747e9f6e"
      },
      "execution_count": 1,
      "outputs": [
        {
          "output_type": "error",
          "ename": "NameError",
          "evalue": "ignored",
          "traceback": [
            "\u001b[0;31m---------------------------------------------------------------------------\u001b[0m",
            "\u001b[0;31mNameError\u001b[0m                                 Traceback (most recent call last)",
            "\u001b[0;32m<ipython-input-1-22afd24193db>\u001b[0m in \u001b[0;36m<cell line: 1>\u001b[0;34m()\u001b[0m\n\u001b[0;32m----> 1\u001b[0;31m \u001b[0mmodel_tr\u001b[0m\u001b[0;34m.\u001b[0m\u001b[0msave\u001b[0m\u001b[0;34m(\u001b[0m\u001b[0;34m'dis_det'\u001b[0m\u001b[0;34m)\u001b[0m\u001b[0;34m\u001b[0m\u001b[0;34m\u001b[0m\u001b[0m\n\u001b[0m",
            "\u001b[0;31mNameError\u001b[0m: name 'model_tr' is not defined"
          ]
        }
      ]
    }
  ],
  "metadata": {
    "colab": {
      "provenance": [],
      "gpuType": "T4",
      "authorship_tag": "ABX9TyNT943zSjkoHTgeUZnXMisH",
      "include_colab_link": true
    },
    "kernelspec": {
      "display_name": "Python 3",
      "name": "python3"
    },
    "language_info": {
      "name": "python"
    },
    "accelerator": "GPU"
  },
  "nbformat": 4,
  "nbformat_minor": 0
}