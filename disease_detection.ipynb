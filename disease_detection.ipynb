{
  "cells": [
    {
      "cell_type": "markdown",
      "metadata": {
        "id": "view-in-github",
        "colab_type": "text"
      },
      "source": [
        "<a href=\"https://colab.research.google.com/github/Barryugo/Disease-detection/blob/main/disease_detection.ipynb\" target=\"_parent\"><img src=\"https://colab.research.google.com/assets/colab-badge.svg\" alt=\"Open In Colab\"/></a>"
      ]
    },
    {
      "cell_type": "code",
      "execution_count": 2,
      "metadata": {
        "colab": {
          "base_uri": "https://localhost:8080/"
        },
        "id": "UHYE8J8jXD1w",
        "outputId": "af56ab91-e36e-4a32-c4d7-0f0822f20c78"
      },
      "outputs": [
        {
          "output_type": "stream",
          "name": "stdout",
          "text": [
            "Requirement already satisfied: gdown in /usr/local/lib/python3.10/dist-packages (4.6.6)\n",
            "Requirement already satisfied: filelock in /usr/local/lib/python3.10/dist-packages (from gdown) (3.12.2)\n",
            "Requirement already satisfied: requests[socks] in /usr/local/lib/python3.10/dist-packages (from gdown) (2.27.1)\n",
            "Requirement already satisfied: six in /usr/local/lib/python3.10/dist-packages (from gdown) (1.16.0)\n",
            "Requirement already satisfied: tqdm in /usr/local/lib/python3.10/dist-packages (from gdown) (4.65.0)\n",
            "Requirement already satisfied: beautifulsoup4 in /usr/local/lib/python3.10/dist-packages (from gdown) (4.11.2)\n",
            "Requirement already satisfied: soupsieve>1.2 in /usr/local/lib/python3.10/dist-packages (from beautifulsoup4->gdown) (2.4.1)\n",
            "Requirement already satisfied: urllib3<1.27,>=1.21.1 in /usr/local/lib/python3.10/dist-packages (from requests[socks]->gdown) (1.26.16)\n",
            "Requirement already satisfied: certifi>=2017.4.17 in /usr/local/lib/python3.10/dist-packages (from requests[socks]->gdown) (2023.5.7)\n",
            "Requirement already satisfied: charset-normalizer~=2.0.0 in /usr/local/lib/python3.10/dist-packages (from requests[socks]->gdown) (2.0.12)\n",
            "Requirement already satisfied: idna<4,>=2.5 in /usr/local/lib/python3.10/dist-packages (from requests[socks]->gdown) (3.4)\n",
            "Requirement already satisfied: PySocks!=1.5.7,>=1.5.6 in /usr/local/lib/python3.10/dist-packages (from requests[socks]->gdown) (1.7.1)\n"
          ]
        }
      ],
      "source": [
        "!pip install gdown"
      ]
    },
    {
      "cell_type": "code",
      "execution_count": 3,
      "metadata": {
        "colab": {
          "base_uri": "https://localhost:8080/"
        },
        "id": "SqmjTqFZasXp",
        "outputId": "87146d43-a3e4-40bf-a35c-4158013b75b0"
      },
      "outputs": [
        {
          "output_type": "stream",
          "name": "stdout",
          "text": [
            "Collecting split-folders\n",
            "  Downloading split_folders-0.5.1-py3-none-any.whl (8.4 kB)\n",
            "Installing collected packages: split-folders\n",
            "Successfully installed split-folders-0.5.1\n",
            "Requirement already satisfied: TensorFlow in /usr/local/lib/python3.10/dist-packages (2.12.0)\n",
            "Requirement already satisfied: absl-py>=1.0.0 in /usr/local/lib/python3.10/dist-packages (from TensorFlow) (1.4.0)\n",
            "Requirement already satisfied: astunparse>=1.6.0 in /usr/local/lib/python3.10/dist-packages (from TensorFlow) (1.6.3)\n",
            "Requirement already satisfied: flatbuffers>=2.0 in /usr/local/lib/python3.10/dist-packages (from TensorFlow) (23.5.26)\n",
            "Requirement already satisfied: gast<=0.4.0,>=0.2.1 in /usr/local/lib/python3.10/dist-packages (from TensorFlow) (0.4.0)\n",
            "Requirement already satisfied: google-pasta>=0.1.1 in /usr/local/lib/python3.10/dist-packages (from TensorFlow) (0.2.0)\n",
            "Requirement already satisfied: grpcio<2.0,>=1.24.3 in /usr/local/lib/python3.10/dist-packages (from TensorFlow) (1.56.0)\n",
            "Requirement already satisfied: h5py>=2.9.0 in /usr/local/lib/python3.10/dist-packages (from TensorFlow) (3.8.0)\n",
            "Requirement already satisfied: jax>=0.3.15 in /usr/local/lib/python3.10/dist-packages (from TensorFlow) (0.4.10)\n",
            "Requirement already satisfied: keras<2.13,>=2.12.0 in /usr/local/lib/python3.10/dist-packages (from TensorFlow) (2.12.0)\n",
            "Requirement already satisfied: libclang>=13.0.0 in /usr/local/lib/python3.10/dist-packages (from TensorFlow) (16.0.0)\n",
            "Requirement already satisfied: numpy<1.24,>=1.22 in /usr/local/lib/python3.10/dist-packages (from TensorFlow) (1.22.4)\n",
            "Requirement already satisfied: opt-einsum>=2.3.2 in /usr/local/lib/python3.10/dist-packages (from TensorFlow) (3.3.0)\n",
            "Requirement already satisfied: packaging in /usr/local/lib/python3.10/dist-packages (from TensorFlow) (23.1)\n",
            "Requirement already satisfied: protobuf!=4.21.0,!=4.21.1,!=4.21.2,!=4.21.3,!=4.21.4,!=4.21.5,<5.0.0dev,>=3.20.3 in /usr/local/lib/python3.10/dist-packages (from TensorFlow) (3.20.3)\n",
            "Requirement already satisfied: setuptools in /usr/local/lib/python3.10/dist-packages (from TensorFlow) (67.7.2)\n",
            "Requirement already satisfied: six>=1.12.0 in /usr/local/lib/python3.10/dist-packages (from TensorFlow) (1.16.0)\n",
            "Requirement already satisfied: tensorboard<2.13,>=2.12 in /usr/local/lib/python3.10/dist-packages (from TensorFlow) (2.12.3)\n",
            "Requirement already satisfied: tensorflow-estimator<2.13,>=2.12.0 in /usr/local/lib/python3.10/dist-packages (from TensorFlow) (2.12.0)\n",
            "Requirement already satisfied: termcolor>=1.1.0 in /usr/local/lib/python3.10/dist-packages (from TensorFlow) (2.3.0)\n",
            "Requirement already satisfied: typing-extensions>=3.6.6 in /usr/local/lib/python3.10/dist-packages (from TensorFlow) (4.6.3)\n",
            "Requirement already satisfied: wrapt<1.15,>=1.11.0 in /usr/local/lib/python3.10/dist-packages (from TensorFlow) (1.14.1)\n",
            "Requirement already satisfied: tensorflow-io-gcs-filesystem>=0.23.1 in /usr/local/lib/python3.10/dist-packages (from TensorFlow) (0.32.0)\n",
            "Requirement already satisfied: wheel<1.0,>=0.23.0 in /usr/local/lib/python3.10/dist-packages (from astunparse>=1.6.0->TensorFlow) (0.40.0)\n",
            "Requirement already satisfied: ml-dtypes>=0.1.0 in /usr/local/lib/python3.10/dist-packages (from jax>=0.3.15->TensorFlow) (0.2.0)\n",
            "Requirement already satisfied: scipy>=1.7 in /usr/local/lib/python3.10/dist-packages (from jax>=0.3.15->TensorFlow) (1.10.1)\n",
            "Requirement already satisfied: google-auth<3,>=1.6.3 in /usr/local/lib/python3.10/dist-packages (from tensorboard<2.13,>=2.12->TensorFlow) (2.17.3)\n",
            "Requirement already satisfied: google-auth-oauthlib<1.1,>=0.5 in /usr/local/lib/python3.10/dist-packages (from tensorboard<2.13,>=2.12->TensorFlow) (1.0.0)\n",
            "Requirement already satisfied: markdown>=2.6.8 in /usr/local/lib/python3.10/dist-packages (from tensorboard<2.13,>=2.12->TensorFlow) (3.4.3)\n",
            "Requirement already satisfied: requests<3,>=2.21.0 in /usr/local/lib/python3.10/dist-packages (from tensorboard<2.13,>=2.12->TensorFlow) (2.27.1)\n",
            "Requirement already satisfied: tensorboard-data-server<0.8.0,>=0.7.0 in /usr/local/lib/python3.10/dist-packages (from tensorboard<2.13,>=2.12->TensorFlow) (0.7.1)\n",
            "Requirement already satisfied: werkzeug>=1.0.1 in /usr/local/lib/python3.10/dist-packages (from tensorboard<2.13,>=2.12->TensorFlow) (2.3.6)\n",
            "Requirement already satisfied: cachetools<6.0,>=2.0.0 in /usr/local/lib/python3.10/dist-packages (from google-auth<3,>=1.6.3->tensorboard<2.13,>=2.12->TensorFlow) (5.3.1)\n",
            "Requirement already satisfied: pyasn1-modules>=0.2.1 in /usr/local/lib/python3.10/dist-packages (from google-auth<3,>=1.6.3->tensorboard<2.13,>=2.12->TensorFlow) (0.3.0)\n",
            "Requirement already satisfied: rsa<5,>=3.1.4 in /usr/local/lib/python3.10/dist-packages (from google-auth<3,>=1.6.3->tensorboard<2.13,>=2.12->TensorFlow) (4.9)\n",
            "Requirement already satisfied: requests-oauthlib>=0.7.0 in /usr/local/lib/python3.10/dist-packages (from google-auth-oauthlib<1.1,>=0.5->tensorboard<2.13,>=2.12->TensorFlow) (1.3.1)\n",
            "Requirement already satisfied: urllib3<1.27,>=1.21.1 in /usr/local/lib/python3.10/dist-packages (from requests<3,>=2.21.0->tensorboard<2.13,>=2.12->TensorFlow) (1.26.16)\n",
            "Requirement already satisfied: certifi>=2017.4.17 in /usr/local/lib/python3.10/dist-packages (from requests<3,>=2.21.0->tensorboard<2.13,>=2.12->TensorFlow) (2023.5.7)\n",
            "Requirement already satisfied: charset-normalizer~=2.0.0 in /usr/local/lib/python3.10/dist-packages (from requests<3,>=2.21.0->tensorboard<2.13,>=2.12->TensorFlow) (2.0.12)\n",
            "Requirement already satisfied: idna<4,>=2.5 in /usr/local/lib/python3.10/dist-packages (from requests<3,>=2.21.0->tensorboard<2.13,>=2.12->TensorFlow) (3.4)\n",
            "Requirement already satisfied: MarkupSafe>=2.1.1 in /usr/local/lib/python3.10/dist-packages (from werkzeug>=1.0.1->tensorboard<2.13,>=2.12->TensorFlow) (2.1.3)\n",
            "Requirement already satisfied: pyasn1<0.6.0,>=0.4.6 in /usr/local/lib/python3.10/dist-packages (from pyasn1-modules>=0.2.1->google-auth<3,>=1.6.3->tensorboard<2.13,>=2.12->TensorFlow) (0.5.0)\n",
            "Requirement already satisfied: oauthlib>=3.0.0 in /usr/local/lib/python3.10/dist-packages (from requests-oauthlib>=0.7.0->google-auth-oauthlib<1.1,>=0.5->tensorboard<2.13,>=2.12->TensorFlow) (3.2.2)\n"
          ]
        }
      ],
      "source": [
        "!pip install split-folders\n",
        "!pip install TensorFlow"
      ]
    },
    {
      "cell_type": "code",
      "execution_count": 4,
      "metadata": {
        "id": "t0uHGc9NbBx3"
      },
      "outputs": [],
      "source": [
        "import os\n",
        "import tensorflow as tf\n",
        "import cv2, pathlib, splitfolders\n",
        "from tensorflow.keras.preprocessing.image import ImageDataGenerator\n",
        "from tensorflow.keras.layers import *\n",
        "import matplotlib.pyplot as plt\n",
        "import pandas as pd\n",
        "import numpy as np\n",
        "from google.colab import drive"
      ]
    },
    {
      "cell_type": "code",
      "execution_count": 5,
      "metadata": {
        "id": "4R3nzDH2GRsU"
      },
      "outputs": [],
      "source": [
        "from google.colab import files\n",
        "import zipfile\n",
        "import io"
      ]
    },
    {
      "cell_type": "code",
      "execution_count": 6,
      "metadata": {
        "colab": {
          "base_uri": "https://localhost:8080/"
        },
        "id": "L3K6w-mLRCQV",
        "outputId": "cfe52530-6f05-437f-8be0-eb565a881bf5"
      },
      "outputs": [
        {
          "output_type": "stream",
          "name": "stdout",
          "text": [
            "Mounted at /content/drive\n"
          ]
        }
      ],
      "source": [
        "drive.mount('/content/drive')"
      ]
    },
    {
      "cell_type": "code",
      "execution_count": 7,
      "metadata": {
        "colab": {
          "base_uri": "https://localhost:8080/"
        },
        "id": "eEvHxXhyUK6-",
        "outputId": "b26aff30-40fc-4e26-b860-01f4e3fb0b38"
      },
      "outputs": [
        {
          "output_type": "stream",
          "name": "stdout",
          "text": [
            "/usr/local/lib/python3.10/dist-packages/gdown/cli.py:121: FutureWarning: Option `--id` was deprecated in version 4.3.1 and will be removed in 5.0. You don't need to pass it anymore to use a file ID.\n",
            "  warnings.warn(\n",
            "Downloading...\n",
            "From: https://drive.google.com/uc?id=1tMMrivJDCM62PEuXHUnOG1YKH9KI6Lfv\n",
            "To: /content/archive.zip\n",
            "100% 169M/169M [00:04<00:00, 40.7MB/s]\n"
          ]
        }
      ],
      "source": [
        "!gdown --id 1tMMrivJDCM62PEuXHUnOG1YKH9KI6Lfv\n"
      ]
    },
    {
      "cell_type": "code",
      "execution_count": 8,
      "metadata": {
        "id": "jSHr8d3XX8XV"
      },
      "outputs": [],
      "source": [
        "!unzip -uq \"archive.zip\" -d \"Disease_detection\"\n"
      ]
    },
    {
      "cell_type": "code",
      "execution_count": 9,
      "metadata": {
        "colab": {
          "base_uri": "https://localhost:8080/"
        },
        "id": "d-vPsYzBUIdN",
        "outputId": "a80578c6-f664-48a0-ab10-f80519e5f58f"
      },
      "outputs": [
        {
          "output_type": "stream",
          "name": "stdout",
          "text": [
            "Blight\tCommon_Rust  Gray_Leaf_Spot  Healthy\n"
          ]
        }
      ],
      "source": [
        "!ls /content/Disease_detection/data\n"
      ]
    },
    {
      "cell_type": "code",
      "source": [
        "# import the libraries\n",
        "import tensorflow as tf\n",
        "from tensorflow.keras.applications.resnet50 import ResNet50\n",
        "from tensorflow.keras.preprocessing.image import ImageDataGenerator\n",
        "from tensorflow.keras.layers import Flatten, Dense, Dropout\n",
        "from tensorflow.keras.models import Sequential\n",
        "import splitfolders\n",
        "\n",
        "# set the parameters\n",
        "epochs = 30\n",
        "batch_size = 32\n",
        "img_height, img_width = 300, 300\n",
        "input_shape = (img_height, img_width, 3)\n",
        "\n",
        "# create the data generator and split the dataset\n",
        "data_gen = ImageDataGenerator(rescale=1.0 / 255)\n",
        "splitfolders.ratio('/content/Disease_detection/data', output='Imgs/', seed=1234, ratio=(0.7, 0.15, 0.15), group_prefix=None)\n",
        "\n",
        "# create the train and validation datasets\n",
        "train_ds = data_gen.flow_from_directory('Imgs/train/', target_size=(img_height, img_width),\n",
        "                                        class_mode='sparse', batch_size=batch_size, subset='training')\n",
        "val_ds = data_gen.flow_from_directory('Imgs/val/', target_size=(img_height, img_width),\n",
        "                                      class_mode='sparse', batch_size=batch_size, shuffle=False)\n",
        "\n",
        "# load the pretrained model and freeze its weights\n",
        "base_model = ResNet50(weights='imagenet', include_top=False)\n",
        "base_model.trainable = False\n",
        "\n",
        "# create the transfer learning model\n",
        "from tensorflow.keras.layers import GlobalAveragePooling2D\n",
        "model_tr = Sequential()\n",
        "model_tr.add(base_model)\n",
        "model_tr.add(GlobalAveragePooling2D())\n",
        "model_tr.add(Dense(256, activation='relu'))\n",
        "model_tr.add(Dropout(0.3))\n",
        "model_tr.add(Dense(4, activation='softmax'))\n",
        "\n",
        "\n",
        "# compile and train the model\n",
        "model_tr.compile(optimizer='adam',\n",
        "            loss=tf.keras.losses.SparseCategoricalCrossentropy(from_logits=False),\n",
        "            metrics=['sparse_categorical_accuracy'])\n",
        "\n",
        "checkpoint_save_path = './Model.ckpt'\n",
        "if os.path.exists(checkpoint_save_path + '.index'):\n",
        "    model_tr.load_weights(checkpoint_save_path)\n",
        "\n",
        "cp_callback = tf.keras.callbacks.ModelCheckpoint(filepath=checkpoint_save_path, save_weights_only=True,\n",
        "                                                 save_best_only=True)\n",
        "\n",
        "history = model_tr.fit(train_ds, epochs=epochs, batch_size=batch_size, validation_data=val_ds, callbacks=[cp_callback])\n",
        "\n",
        "model_tr.summary()\n",
        "\n",
        "file = open('./weights.txt', 'w')\n",
        "for v in model_tr.trainable_variables:\n",
        "    file.write(str(v.name) + '\\n')\n",
        "    file.write(str(v.shape) + '\\n')\n",
        "    file.write(str(v.numpy()) + '\\n')\n",
        "\n",
        "file.close()\n"
      ],
      "metadata": {
        "colab": {
          "base_uri": "https://localhost:8080/"
        },
        "id": "1MdiusnRVRW3",
        "outputId": "f022938b-a266-404b-dbf6-67fba439ad96"
      },
      "execution_count": 10,
      "outputs": [
        {
          "output_type": "stream",
          "name": "stderr",
          "text": [
            "Copying files: 4188 files [00:00, 6133.32 files/s]\n"
          ]
        },
        {
          "output_type": "stream",
          "name": "stdout",
          "text": [
            "Found 2930 images belonging to 4 classes.\n",
            "Found 626 images belonging to 4 classes.\n",
            "Downloading data from https://storage.googleapis.com/tensorflow/keras-applications/resnet/resnet50_weights_tf_dim_ordering_tf_kernels_notop.h5\n",
            "94765736/94765736 [==============================] - 0s 0us/step\n",
            "Epoch 1/30\n",
            "92/92 [==============================] - 45s 329ms/step - loss: 1.4082 - sparse_categorical_accuracy: 0.3652 - val_loss: 1.2127 - val_sparse_categorical_accuracy: 0.5655\n",
            "Epoch 2/30\n",
            "92/92 [==============================] - 26s 285ms/step - loss: 1.1868 - sparse_categorical_accuracy: 0.4928 - val_loss: 1.0661 - val_sparse_categorical_accuracy: 0.6358\n",
            "Epoch 3/30\n",
            "92/92 [==============================] - 27s 294ms/step - loss: 1.0697 - sparse_categorical_accuracy: 0.5379 - val_loss: 0.9691 - val_sparse_categorical_accuracy: 0.5783\n",
            "Epoch 4/30\n",
            "92/92 [==============================] - 27s 295ms/step - loss: 0.9899 - sparse_categorical_accuracy: 0.5696 - val_loss: 0.8955 - val_sparse_categorical_accuracy: 0.5974\n",
            "Epoch 5/30\n",
            "92/92 [==============================] - 28s 301ms/step - loss: 0.9465 - sparse_categorical_accuracy: 0.5863 - val_loss: 0.8680 - val_sparse_categorical_accuracy: 0.5783\n",
            "Epoch 6/30\n",
            "92/92 [==============================] - 27s 292ms/step - loss: 0.9048 - sparse_categorical_accuracy: 0.6102 - val_loss: 0.8838 - val_sparse_categorical_accuracy: 0.5831\n",
            "Epoch 7/30\n",
            "92/92 [==============================] - 27s 297ms/step - loss: 0.8716 - sparse_categorical_accuracy: 0.6232 - val_loss: 0.8324 - val_sparse_categorical_accuracy: 0.5799\n",
            "Epoch 8/30\n",
            "92/92 [==============================] - 27s 297ms/step - loss: 0.8758 - sparse_categorical_accuracy: 0.6167 - val_loss: 0.7917 - val_sparse_categorical_accuracy: 0.6150\n",
            "Epoch 9/30\n",
            "92/92 [==============================] - 27s 292ms/step - loss: 0.8363 - sparse_categorical_accuracy: 0.6403 - val_loss: 0.7817 - val_sparse_categorical_accuracy: 0.6949\n",
            "Epoch 10/30\n",
            "92/92 [==============================] - 27s 285ms/step - loss: 0.8356 - sparse_categorical_accuracy: 0.6389 - val_loss: 0.8181 - val_sparse_categorical_accuracy: 0.6565\n",
            "Epoch 11/30\n",
            "92/92 [==============================] - 27s 291ms/step - loss: 0.8139 - sparse_categorical_accuracy: 0.6433 - val_loss: 0.8026 - val_sparse_categorical_accuracy: 0.6518\n",
            "Epoch 12/30\n",
            "92/92 [==============================] - 28s 302ms/step - loss: 0.7992 - sparse_categorical_accuracy: 0.6526 - val_loss: 0.7484 - val_sparse_categorical_accuracy: 0.6741\n",
            "Epoch 13/30\n",
            "92/92 [==============================] - 28s 298ms/step - loss: 0.8056 - sparse_categorical_accuracy: 0.6474 - val_loss: 0.7283 - val_sparse_categorical_accuracy: 0.7125\n",
            "Epoch 14/30\n",
            "92/92 [==============================] - 27s 298ms/step - loss: 0.7659 - sparse_categorical_accuracy: 0.6785 - val_loss: 0.7083 - val_sparse_categorical_accuracy: 0.6581\n",
            "Epoch 15/30\n",
            "92/92 [==============================] - 28s 298ms/step - loss: 0.7601 - sparse_categorical_accuracy: 0.6727 - val_loss: 0.6937 - val_sparse_categorical_accuracy: 0.7220\n",
            "Epoch 16/30\n",
            "92/92 [==============================] - 27s 290ms/step - loss: 0.7496 - sparse_categorical_accuracy: 0.6874 - val_loss: 0.6995 - val_sparse_categorical_accuracy: 0.6837\n",
            "Epoch 17/30\n",
            "92/92 [==============================] - 27s 292ms/step - loss: 0.7568 - sparse_categorical_accuracy: 0.6758 - val_loss: 0.6950 - val_sparse_categorical_accuracy: 0.6757\n",
            "Epoch 18/30\n",
            "92/92 [==============================] - 27s 291ms/step - loss: 0.7548 - sparse_categorical_accuracy: 0.6809 - val_loss: 0.7189 - val_sparse_categorical_accuracy: 0.7316\n",
            "Epoch 19/30\n",
            "92/92 [==============================] - 27s 293ms/step - loss: 0.7691 - sparse_categorical_accuracy: 0.6638 - val_loss: 0.7265 - val_sparse_categorical_accuracy: 0.6374\n",
            "Epoch 20/30\n",
            "92/92 [==============================] - 28s 297ms/step - loss: 0.7576 - sparse_categorical_accuracy: 0.6706 - val_loss: 0.6976 - val_sparse_categorical_accuracy: 0.7316\n",
            "Epoch 21/30\n",
            "92/92 [==============================] - 28s 300ms/step - loss: 0.7413 - sparse_categorical_accuracy: 0.6853 - val_loss: 0.6667 - val_sparse_categorical_accuracy: 0.7332\n",
            "Epoch 22/30\n",
            "92/92 [==============================] - 27s 293ms/step - loss: 0.7443 - sparse_categorical_accuracy: 0.6771 - val_loss: 0.6690 - val_sparse_categorical_accuracy: 0.7061\n",
            "Epoch 23/30\n",
            "92/92 [==============================] - 27s 293ms/step - loss: 0.7559 - sparse_categorical_accuracy: 0.6758 - val_loss: 0.7014 - val_sparse_categorical_accuracy: 0.7093\n",
            "Epoch 24/30\n",
            "92/92 [==============================] - 27s 298ms/step - loss: 0.7345 - sparse_categorical_accuracy: 0.6884 - val_loss: 0.6828 - val_sparse_categorical_accuracy: 0.7412\n",
            "Epoch 25/30\n",
            "92/92 [==============================] - 27s 296ms/step - loss: 0.7220 - sparse_categorical_accuracy: 0.7044 - val_loss: 0.6494 - val_sparse_categorical_accuracy: 0.7412\n",
            "Epoch 26/30\n",
            "92/92 [==============================] - 27s 296ms/step - loss: 0.7170 - sparse_categorical_accuracy: 0.6952 - val_loss: 0.6782 - val_sparse_categorical_accuracy: 0.6725\n",
            "Epoch 27/30\n",
            "92/92 [==============================] - 27s 296ms/step - loss: 0.7254 - sparse_categorical_accuracy: 0.6993 - val_loss: 0.6604 - val_sparse_categorical_accuracy: 0.7284\n",
            "Epoch 28/30\n",
            "92/92 [==============================] - 28s 302ms/step - loss: 0.7238 - sparse_categorical_accuracy: 0.6908 - val_loss: 0.6474 - val_sparse_categorical_accuracy: 0.7236\n",
            "Epoch 29/30\n",
            "92/92 [==============================] - 27s 294ms/step - loss: 0.7314 - sparse_categorical_accuracy: 0.6802 - val_loss: 0.6501 - val_sparse_categorical_accuracy: 0.7476\n",
            "Epoch 30/30\n",
            "92/92 [==============================] - 27s 293ms/step - loss: 0.7029 - sparse_categorical_accuracy: 0.7061 - val_loss: 0.6405 - val_sparse_categorical_accuracy: 0.7588\n",
            "Model: \"sequential\"\n",
            "_________________________________________________________________\n",
            " Layer (type)                Output Shape              Param #   \n",
            "=================================================================\n",
            " resnet50 (Functional)       (None, None, None, 2048)  23587712  \n",
            "                                                                 \n",
            " global_average_pooling2d (G  (None, 2048)             0         \n",
            " lobalAveragePooling2D)                                          \n",
            "                                                                 \n",
            " dense (Dense)               (None, 256)               524544    \n",
            "                                                                 \n",
            " dropout (Dropout)           (None, 256)               0         \n",
            "                                                                 \n",
            " dense_1 (Dense)             (None, 4)                 1028      \n",
            "                                                                 \n",
            "=================================================================\n",
            "Total params: 24,113,284\n",
            "Trainable params: 525,572\n",
            "Non-trainable params: 23,587,712\n",
            "_________________________________________________________________\n"
          ]
        }
      ]
    },
    {
      "cell_type": "code",
      "source": [
        "test_loss, test_acc = model_tr.evaluate(val_ds)\n",
        "print('Test loss:', test_loss)\n",
        "print('Test accuracy:', test_acc)"
      ],
      "metadata": {
        "colab": {
          "base_uri": "https://localhost:8080/"
        },
        "id": "yjiMyLAKWdLX",
        "outputId": "d77c2a14-9b8c-49a5-af0d-460332ca4dac"
      },
      "execution_count": 11,
      "outputs": [
        {
          "output_type": "stream",
          "name": "stdout",
          "text": [
            "20/20 [==============================] - 5s 228ms/step - loss: 0.6405 - sparse_categorical_accuracy: 0.7588\n",
            "Test loss: 0.6405082941055298\n",
            "Test accuracy: 0.7587859630584717\n"
          ]
        }
      ]
    },
    {
      "cell_type": "code",
      "source": [
        "acc = history.history['sparse_categorical_accuracy']\n",
        "loss = history.history['loss']\n",
        "\n",
        "plt.figure(figsize=(12, 6))\n",
        "plt.subplot(1, 2, 1)\n",
        "plt.plot(acc)\n",
        "plt.title('Training Acc')\n",
        "\n",
        "plt.subplot(1, 2, 2)\n",
        "plt.plot(loss)\n",
        "plt.title('Training Loss')\n",
        "plt.show()"
      ],
      "metadata": {
        "colab": {
          "base_uri": "https://localhost:8080/",
          "height": 518
        },
        "id": "_H-XE3CDNrlA",
        "outputId": "0fbf8cfa-182c-473a-f9e1-cf4db710d737"
      },
      "execution_count": 12,
      "outputs": [
        {
          "output_type": "display_data",
          "data": {
            "text/plain": [
              "<Figure size 1200x600 with 2 Axes>"
            ],
            "image/png": "[encoded data removed]"
          },
          "metadata": {}
        }
      ]
    },
    {
      "cell_type": "code",
      "source": [
        "model_tr.save('dis_det')"
      ],
      "metadata": {
        "colab": {
          "base_uri": "https://localhost:8080/"
        },
        "id": "z8EyqrHeK2dv",
        "outputId": "d2f6220e-4130-4305-cfab-06369eeb8d58"
      },
      "execution_count": 13,
      "outputs": [
        {
          "output_type": "stream",
          "name": "stderr",
          "text": [
            "WARNING:absl:Found untraced functions such as _jit_compiled_convolution_op, _jit_compiled_convolution_op, _jit_compiled_convolution_op, _jit_compiled_convolution_op, _jit_compiled_convolution_op while saving (showing 5 of 53). These functions will not be directly callable after loading.\n"
          ]
        }
      ]
    }
  ],
  "metadata": {
    "colab": {
      "provenance": [],
      "gpuType": "T4",
      "authorship_tag": "ABX9TyOKHVudhHPdwAME85Le7nW+",
      "include_colab_link": true
    },
    "kernelspec": {
      "display_name": "Python 3",
      "name": "python3"
    },
    "language_info": {
      "name": "python"
    },
    "accelerator": "GPU"
  },
  "nbformat": 4,
  "nbformat_minor": 0
}